{
 "cells": [
  {
   "cell_type": "markdown",
   "metadata": {},
   "source": [
    "# Introduction"
   ]
  },
  {
   "cell_type": "markdown",
   "metadata": {},
   "source": [
    "The city of Toronto is recognized as the financial capital of Canada representing a diverse population having migrated from around the world. It respects and celebrates multiple cultures from East Asia, South Asia, Middle East, Europe, Africa, Carribean islands, Latin America and many other regions. Toronto offers many business opportunities as the population keeps growing due to the liberal immigration policy of the government. Real estate in Toronto, both residential and commercial has shown over 8-10% increase in price per sq. ft, making is highly competive and risky to start a new business. Any new business opportunity needs to be analysed carefully to mitigate risks and to make an informed decision to ensure good Return on Investment (ROI)."
   ]
  },
  {
   "cell_type": "markdown",
   "metadata": {},
   "source": [
    "# Business Problem"
   ]
  },
  {
   "cell_type": "markdown",
   "metadata": {},
   "source": [
    "Toronto celebrates cuisines and cultures from around the world. Restaurants offering international cuisines have sprung up around the city. Most restaurants in business districts and residential hubs have a restaurant in every block. Especially Indian restaurants offering tasty and spicy food have become very popular. Starting a new restaurant offering Indian cuisine can be a good business opportunity, but will it survive in the long run in post COVID-19 situation where the hospitality industry in recent times has been most adversely affected?"
   ]
  },
  {
   "cell_type": "markdown",
   "metadata": {},
   "source": [
    "# Finding the right location"
   ]
  },
  {
   "cell_type": "markdown",
   "metadata": {},
   "source": [
    "As a Marketing Guru would say... The most important criteria for a restaurant to succeed in long run after quality of food served is Location, Location, Location. It is important to strategically determine the location of the restaurant which can be frequented not only by Asians but also from people from around the world who enjoy good food. Should it me near a business district, tourist destination, neighbourhood with dense Asian population, Shopping Malls, Entertainment district or any other criteria?  The options are many but, the main question is where can you make maximum ROI?  Many factors need to be considered to decide the right location."
   ]
  },
  {
   "cell_type": "markdown",
   "metadata": {},
   "source": [
    "# Target Audience"
   ]
  },
  {
   "cell_type": "markdown",
   "metadata": {},
   "source": [
    "My client wants to open business especially in the \"North York\" area within the \"Greater Toronto Area (GTA)\", so the focus in on this area during my analysis. The objective of this exercise is to recommend the best location in the \"North York\" area to start the new restaurant offering Indian cuisine. It is important to provide rationale along with the recommendation to make an informed decision."
   ]
  },
  {
   "cell_type": "code",
   "execution_count": null,
   "metadata": {},
   "outputs": [],
   "source": []
  }
 ],
 "metadata": {
  "kernelspec": {
   "display_name": "Python",
   "language": "python",
   "name": "conda-env-python-py"
  },
  "language_info": {
   "codemirror_mode": {
    "name": "ipython",
    "version": 3
   },
   "file_extension": ".py",
   "mimetype": "text/x-python",
   "name": "python",
   "nbconvert_exporter": "python",
   "pygments_lexer": "ipython3",
   "version": "3.6.12"
  }
 },
 "nbformat": 4,
 "nbformat_minor": 4
}
