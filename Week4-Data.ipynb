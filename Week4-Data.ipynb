{
 "cells": [
  {
   "cell_type": "markdown",
   "metadata": {},
   "source": [
    "# Data"
   ]
  },
  {
   "cell_type": "markdown",
   "metadata": {},
   "source": [
    "Information from sources linked below will be used to determin the best location to start the new Indian restaurant in Toronto.\n",
    "\n",
    "TO segment the neighbourhoods and explore them, we will need the latitudes and longitudes of each neighbourhood in the Toronto area. This data already exists:\n",
    "\n",
    "1. The Geospatial data is available from this web location:\n",
    "URL: http://cocl.us/Geospatial_data\n",
    "\n",
    "2. The Toronto neighbourhood data is available form this web location:\n",
    "URL: https://en.wikipedia.org/wiki/List_of_postal_codes_of_Canada:_M \n",
    "\n",
    "The neighbouhood data was used in the Clustering and Segmenting assignnment in the previous week and the CSV file already created will be reused for this assignment.\n",
    "\n",
    "Foursquare Venues categories will be from this location:\n",
    "URL : https://developer.foursquare.com/docs/build-with-foursquare/categories/ \n",
    "\n",
    "Indian restaurant category ID:\n",
    "4bf58dd8d48988d10f941735"
   ]
  }
 ],
 "metadata": {
  "kernelspec": {
   "display_name": "Python",
   "language": "python",
   "name": "conda-env-python-py"
  },
  "language_info": {
   "codemirror_mode": {
    "name": "ipython",
    "version": 3
   },
   "file_extension": ".py",
   "mimetype": "text/x-python",
   "name": "python",
   "nbconvert_exporter": "python",
   "pygments_lexer": "ipython3",
   "version": "3.6.12"
  }
 },
 "nbformat": 4,
 "nbformat_minor": 4
}
